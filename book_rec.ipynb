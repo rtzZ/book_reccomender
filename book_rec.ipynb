{
 "cells": [
  {
   "cell_type": "code",
   "execution_count": 1,
   "metadata": {},
   "outputs": [
    {
     "name": "stderr",
     "output_type": "stream",
     "text": [
      "[nltk_data] Downloading package punkt to /Users/16735244/nltk_data...\n",
      "[nltk_data]   Package punkt is already up-to-date!\n",
      "[nltk_data] Downloading package stopwords to\n",
      "[nltk_data]     /Users/16735244/nltk_data...\n",
      "[nltk_data]   Package stopwords is already up-to-date!\n",
      "0it [00:00, ?it/s]/opt/anaconda3/lib/python3.8/site-packages/tqdm/std.py:697: FutureWarning: The Panel class is removed from pandas. Accessing it from the top-level namespace will also be removed in the next version\n",
      "  from pandas import Panel\n"
     ]
    }
   ],
   "source": [
    "import re\n",
    "import pandas as pd\n",
    "import numpy as np\n",
    "import nltk\n",
    "from nltk.corpus import stopwords\n",
    "import pymorphy2\n",
    "from tqdm import tqdm, tqdm_notebook\n",
    "import ssl\n",
    "from sklearn.feature_extraction.text import TfidfVectorizer\n",
    "from sklearn.metrics.pairwise import linear_kernel\n",
    "\n",
    "\n",
    "try:\n",
    "    _create_unverified_https_context = ssl._create_unverified_context\n",
    "except AttributeError:\n",
    "    pass\n",
    "else:\n",
    "    ssl._create_default_https_context = _create_unverified_https_context\n",
    "\n",
    "nltk.download('punkt')\n",
    "nltk.download('stopwords')\n",
    "tqdm().pandas()"
   ]
  },
  {
   "cell_type": "code",
   "execution_count": 2,
   "metadata": {},
   "outputs": [
    {
     "name": "stderr",
     "output_type": "stream",
     "text": [
      "0it [00:00, ?it/s]\n"
     ]
    }
   ],
   "source": [
    "patterns = \"[!#$%&'()*+,./:;<=>?@[\\]^_`{|}~—\\\"\\-]+\"\n",
    "stopwords_ru = stopwords.words(\"russian\")\n",
    "stopwords_en = stopwords.words(\"english\")\n",
    "stop = stopwords_en+stopwords_ru\n",
    "\n",
    "morph = pymorphy2.MorphAnalyzer()\n",
    "def lemmatize(doc):\n",
    "    doc = re.sub(patterns, ' ', doc)\n",
    "    tokens = []\n",
    "    for token in doc.split():\n",
    "        if token and token not in stop:\n",
    "            token = token.strip()\n",
    "            token = morph.normal_forms(token)[0]\n",
    "            tokens.append(token)\n",
    "    \n",
    "    return tokens"
   ]
  },
  {
   "cell_type": "code",
   "execution_count": 3,
   "metadata": {},
   "outputs": [],
   "source": [
    "#считывание данных\n",
    "sub = pd.read_csv('train/sample_solution.csv', sep=';', index_col=None)\n",
    "users = pd.read_csv('train/users.csv', sep=';', index_col=None, dtype={'age': str, 'chb': str, 'chit_type': str, 'gender': str})\n",
    "items = pd.read_csv('train/items.csv', sep=';', index_col=None, dtype={'author': str, 'bbk': str, 'izd': str, 'sys_numb': str, 'title': str, 'year_izd': str})\n",
    "train_transactions = pd.read_csv('train/train_transactions_extended.csv', sep=';', index_col=None, dtype={'chb': str, 'date_1': str, 'is_printed': str, 'is_real': str, 'source': str, 'sys_numb': str, 'type': str})"
   ]
  },
  {
   "cell_type": "code",
   "execution_count": 4,
   "metadata": {},
   "outputs": [],
   "source": [
    "train_transactions=train_transactions.sort_values(by=['chb', 'date_1']).reset_index()[['chb','sys_numb','date_1']]\n",
    "items2 = items.fillna('')\n",
    "items2['all']=items2['title']+' '+items2['author']+' '+items2['izd']+' '+items2['year_izd']\n",
    "items2 = items2.reset_index(drop=True)\n",
    "items2['index1'] = items2.index"
   ]
  },
  {
   "cell_type": "code",
   "execution_count": 5,
   "metadata": {},
   "outputs": [
    {
     "name": "stderr",
     "output_type": "stream",
     "text": [
      "100%|██████████| 354355/354355 [15:30<00:00, 380.98it/s]\n"
     ]
    }
   ],
   "source": [
    "items2['corpus']=items2['all'].progress_apply(lambda x : ' '.join(lemmatize(x)))"
   ]
  },
  {
   "cell_type": "code",
   "execution_count": 6,
   "metadata": {},
   "outputs": [],
   "source": [
    "tfidf = TfidfVectorizer(max_features=70000)\n",
    "tfidf_matrix = tfidf.fit_transform(items2['corpus'])"
   ]
  },
  {
   "cell_type": "code",
   "execution_count": 7,
   "metadata": {},
   "outputs": [],
   "source": [
    "def coll(i=0):\n",
    "    user_u = train_transactions['chb'].unique()\n",
    "    lst=[]\n",
    "    qwe=pd.DataFrame()\n",
    "    while i<len(user_u):\n",
    "        z = train_transactions[train_transactions['chb']==user_u[i]]['sys_numb']\n",
    "        ind_book = items2[items2['sys_numb'].isin(z)]['index1']\n",
    "        cosine_sim = linear_kernel(np.mean(tfidf_matrix[ind_book.values], axis=0), tfidf_matrix)\n",
    "        x = pd.DataFrame(cosine_sim[0],columns= ['dist']).sort_values(by=['dist'])\n",
    "        x['index1'] = x.index\n",
    "        y = train_transactions[train_transactions['chb']==user_u[i]].sys_numb\n",
    "        ind_now = items2[items2['sys_numb'].isin(y)].index1\n",
    "        x = x[~x['index1'].isin(ind_now)][-20:].index.values\n",
    "        lst = items2[items2['index1'].isin(x)]['sys_numb'].tolist()\n",
    "        qwe = pd.concat([qwe,pd.DataFrame(lst)],ignore_index=True)\n",
    "        i+=1\n",
    "        #print(i)\n",
    "    return qwe"
   ]
  },
  {
   "cell_type": "code",
   "execution_count": 8,
   "metadata": {},
   "outputs": [],
   "source": [
    "qwe = coll()"
   ]
  },
  {
   "cell_type": "code",
   "execution_count": 9,
   "metadata": {},
   "outputs": [],
   "source": [
    "zzz = sub.sort_values(by=['chb']).reset_index()\n",
    "qwe['chb']=zzz['chb']\n",
    "qwe = qwe.rename(columns={0: 'sys_numb'})"
   ]
  },
  {
   "cell_type": "code",
   "execution_count": null,
   "metadata": {},
   "outputs": [],
   "source": [
    "qwe[['chb', 'sys_numb']].to_csv(\"solution01.csv\", index=False, sep=';')"
   ]
  }
 ],
 "metadata": {
  "kernelspec": {
   "display_name": "Python 3",
   "language": "python",
   "name": "python3"
  },
  "language_info": {
   "codemirror_mode": {
    "name": "ipython",
    "version": 3
   },
   "file_extension": ".py",
   "mimetype": "text/x-python",
   "name": "python",
   "nbconvert_exporter": "python",
   "pygments_lexer": "ipython3",
   "version": "3.8.5"
  }
 },
 "nbformat": 4,
 "nbformat_minor": 4
}
